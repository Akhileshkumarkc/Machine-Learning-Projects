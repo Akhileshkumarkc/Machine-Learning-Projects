{
 "cells": [
  {
   "cell_type": "code",
   "execution_count": 108,
   "metadata": {
    "collapsed": false
   },
   "outputs": [
    {
     "name": "stdout",
     "output_type": "stream",
     "text": [
      "   movieid   userid  givenrating  predictedrating\n",
      "0        8   573364            1              3.0\n",
      "1        8  1922607            3              3.4\n",
      "2        8  1785017            2              2.9\n",
      "3       28  2628220            4              3.9\n",
      "4       28  1242044            5              3.5\n"
     ]
    }
   ],
   "source": [
    "import pandas as pd\n",
    "predictedData = pd.read_csv('predictions.txt',sep=',', header = None,names =[\"movieid\",\"userid\",\"givenrating\",\"predictedrating\"])\n",
    "print(predictedData.head())"
   ]
  },
  {
   "cell_type": "code",
   "execution_count": 107,
   "metadata": {
    "collapsed": false
   },
   "outputs": [],
   "source": [
    "movieData = pd.read_csv('movie_title.txt',sep='\\t', header = None,names =[\"movieid\",\"movieyear\",\"movieName\"])"
   ]
  },
  {
   "cell_type": "code",
   "execution_count": 159,
   "metadata": {
    "collapsed": false
   },
   "outputs": [
    {
     "data": {
      "text/html": [
       "<div>\n",
       "<table border=\"1\" class=\"dataframe\">\n",
       "  <thead>\n",
       "    <tr style=\"text-align: right;\">\n",
       "      <th></th>\n",
       "      <th>movieid</th>\n",
       "      <th>movieyear</th>\n",
       "      <th>movieName</th>\n",
       "    </tr>\n",
       "  </thead>\n",
       "  <tbody>\n",
       "    <tr>\n",
       "      <th>0</th>\n",
       "      <td>1</td>\n",
       "      <td>2003</td>\n",
       "      <td>Dinosaur Planet</td>\n",
       "    </tr>\n",
       "    <tr>\n",
       "      <th>1</th>\n",
       "      <td>2</td>\n",
       "      <td>2004</td>\n",
       "      <td>Isle of Man TT 2004 Review</td>\n",
       "    </tr>\n",
       "    <tr>\n",
       "      <th>2</th>\n",
       "      <td>3</td>\n",
       "      <td>1997</td>\n",
       "      <td>Character</td>\n",
       "    </tr>\n",
       "    <tr>\n",
       "      <th>3</th>\n",
       "      <td>4</td>\n",
       "      <td>1994</td>\n",
       "      <td>Paula Abdul's Get Up &amp; Dance</td>\n",
       "    </tr>\n",
       "    <tr>\n",
       "      <th>4</th>\n",
       "      <td>5</td>\n",
       "      <td>2004</td>\n",
       "      <td>The Rise and Fall of ECW</td>\n",
       "    </tr>\n",
       "  </tbody>\n",
       "</table>\n",
       "</div>"
      ],
      "text/plain": [
       "   movieid  movieyear                     movieName\n",
       "0        1       2003               Dinosaur Planet\n",
       "1        2       2004    Isle of Man TT 2004 Review\n",
       "2        3       1997                     Character\n",
       "3        4       1994  Paula Abdul's Get Up & Dance\n",
       "4        5       2004      The Rise and Fall of ECW"
      ]
     },
     "execution_count": 159,
     "metadata": {},
     "output_type": "execute_result"
    }
   ],
   "source": [
    "movieData.head()"
   ]
  },
  {
   "cell_type": "code",
   "execution_count": 160,
   "metadata": {
    "collapsed": false
   },
   "outputs": [
    {
     "data": {
      "text/html": [
       "<div>\n",
       "<table border=\"1\" class=\"dataframe\">\n",
       "  <thead>\n",
       "    <tr style=\"text-align: right;\">\n",
       "      <th></th>\n",
       "      <th>movieid</th>\n",
       "      <th>userid</th>\n",
       "      <th>givenrating</th>\n",
       "      <th>predictedrating</th>\n",
       "      <th>movieyear</th>\n",
       "      <th>movieName</th>\n",
       "    </tr>\n",
       "  </thead>\n",
       "  <tbody>\n",
       "    <tr>\n",
       "      <th>0</th>\n",
       "      <td>8</td>\n",
       "      <td>573364</td>\n",
       "      <td>1</td>\n",
       "      <td>3.0</td>\n",
       "      <td>2004</td>\n",
       "      <td>What the #$*! Do We Know!?</td>\n",
       "    </tr>\n",
       "    <tr>\n",
       "      <th>1</th>\n",
       "      <td>8</td>\n",
       "      <td>1922607</td>\n",
       "      <td>3</td>\n",
       "      <td>3.4</td>\n",
       "      <td>2004</td>\n",
       "      <td>What the #$*! Do We Know!?</td>\n",
       "    </tr>\n",
       "    <tr>\n",
       "      <th>2</th>\n",
       "      <td>8</td>\n",
       "      <td>1785017</td>\n",
       "      <td>2</td>\n",
       "      <td>2.9</td>\n",
       "      <td>2004</td>\n",
       "      <td>What the #$*! Do We Know!?</td>\n",
       "    </tr>\n",
       "    <tr>\n",
       "      <th>3</th>\n",
       "      <td>28</td>\n",
       "      <td>2628220</td>\n",
       "      <td>4</td>\n",
       "      <td>3.9</td>\n",
       "      <td>2002</td>\n",
       "      <td>Lilo and Stitch</td>\n",
       "    </tr>\n",
       "    <tr>\n",
       "      <th>4</th>\n",
       "      <td>28</td>\n",
       "      <td>1242044</td>\n",
       "      <td>5</td>\n",
       "      <td>3.5</td>\n",
       "      <td>2002</td>\n",
       "      <td>Lilo and Stitch</td>\n",
       "    </tr>\n",
       "  </tbody>\n",
       "</table>\n",
       "</div>"
      ],
      "text/plain": [
       "   movieid   userid  givenrating  predictedrating  movieyear  \\\n",
       "0        8   573364            1              3.0       2004   \n",
       "1        8  1922607            3              3.4       2004   \n",
       "2        8  1785017            2              2.9       2004   \n",
       "3       28  2628220            4              3.9       2002   \n",
       "4       28  1242044            5              3.5       2002   \n",
       "\n",
       "                    movieName  \n",
       "0  What the #$*! Do We Know!?  \n",
       "1  What the #$*! Do We Know!?  \n",
       "2  What the #$*! Do We Know!?  \n",
       "3             Lilo and Stitch  \n",
       "4             Lilo and Stitch  "
      ]
     },
     "execution_count": 160,
     "metadata": {},
     "output_type": "execute_result"
    }
   ],
   "source": [
    "Totaldata = predictedData.merge(movieData)\n",
    "Totaldata.head()"
   ]
  },
  {
   "cell_type": "code",
   "execution_count": 161,
   "metadata": {
    "collapsed": false
   },
   "outputs": [
    {
     "data": {
      "text/html": [
       "<div>\n",
       "<table border=\"1\" class=\"dataframe\">\n",
       "  <thead>\n",
       "    <tr style=\"text-align: right;\">\n",
       "      <th></th>\n",
       "      <th>movieid</th>\n",
       "      <th>userid</th>\n",
       "      <th>givenrating</th>\n",
       "      <th>predictedrating</th>\n",
       "      <th>movieyear</th>\n",
       "      <th>movieName</th>\n",
       "    </tr>\n",
       "  </thead>\n",
       "  <tbody>\n",
       "    <tr>\n",
       "      <th>3</th>\n",
       "      <td>28</td>\n",
       "      <td>2628220</td>\n",
       "      <td>4</td>\n",
       "      <td>3.9</td>\n",
       "      <td>2002</td>\n",
       "      <td>Lilo and Stitch</td>\n",
       "    </tr>\n",
       "    <tr>\n",
       "      <th>7</th>\n",
       "      <td>28</td>\n",
       "      <td>2152856</td>\n",
       "      <td>4</td>\n",
       "      <td>3.8</td>\n",
       "      <td>2002</td>\n",
       "      <td>Lilo and Stitch</td>\n",
       "    </tr>\n",
       "    <tr>\n",
       "      <th>8</th>\n",
       "      <td>28</td>\n",
       "      <td>721036</td>\n",
       "      <td>4</td>\n",
       "      <td>3.6</td>\n",
       "      <td>2002</td>\n",
       "      <td>Lilo and Stitch</td>\n",
       "    </tr>\n",
       "    <tr>\n",
       "      <th>9</th>\n",
       "      <td>28</td>\n",
       "      <td>705534</td>\n",
       "      <td>4</td>\n",
       "      <td>3.6</td>\n",
       "      <td>2002</td>\n",
       "      <td>Lilo and Stitch</td>\n",
       "    </tr>\n",
       "    <tr>\n",
       "      <th>10</th>\n",
       "      <td>28</td>\n",
       "      <td>887393</td>\n",
       "      <td>4</td>\n",
       "      <td>4.2</td>\n",
       "      <td>2002</td>\n",
       "      <td>Lilo and Stitch</td>\n",
       "    </tr>\n",
       "  </tbody>\n",
       "</table>\n",
       "</div>"
      ],
      "text/plain": [
       "    movieid   userid  givenrating  predictedrating  movieyear        movieName\n",
       "3        28  2628220            4              3.9       2002  Lilo and Stitch\n",
       "7        28  2152856            4              3.8       2002  Lilo and Stitch\n",
       "8        28   721036            4              3.6       2002  Lilo and Stitch\n",
       "9        28   705534            4              3.6       2002  Lilo and Stitch\n",
       "10       28   887393            4              4.2       2002  Lilo and Stitch"
      ]
     },
     "execution_count": 161,
     "metadata": {},
     "output_type": "execute_result"
    }
   ],
   "source": [
    "Totaldata =Totaldata.ix[Totaldata.predictedrating > 3.5]\n",
    "Totaldata.head()"
   ]
  },
  {
   "cell_type": "raw",
   "metadata": {
    "collapsed": false
   },
   "source": []
  },
  {
   "cell_type": "code",
   "execution_count": 162,
   "metadata": {
    "collapsed": false
   },
   "outputs": [],
   "source": [
    "usercounts = Totaldata.groupby('userid').size().sort_values()\n",
    "highestrated = usercounts[-2:]"
   ]
  },
  {
   "cell_type": "code",
   "execution_count": null,
   "metadata": {
    "collapsed": true
   },
   "outputs": [],
   "source": [
    "# usercounts = Totaldata.groupby('userid')\n",
    "print(usercounts)"
   ]
  },
  {
   "cell_type": "code",
   "execution_count": 164,
   "metadata": {
    "collapsed": false
   },
   "outputs": [
    {
     "name": "stdout",
     "output_type": "stream",
     "text": [
      "      movieid   userid  givenrating  predictedrating  movieyear  \\\n",
      "39        305  2387463            4              4.0       1996   \n",
      "278      1744  2387463            4              4.0       1984   \n",
      "448      2460  2209351            4              3.9       1983   \n",
      "816      3903  2387463            3              4.0       1994   \n",
      "830      4129  2387463            2              4.3       1970   \n",
      "1113     5607  2387463            2              3.8       1996   \n",
      "1265     6336  2209351            4              4.2       1992   \n",
      "1349     6666  2387463            4              3.8       1996   \n",
      "1437     7148  2209351            5              3.8       1978   \n",
      "1736     9481  2209351            4              4.4       1972   \n",
      "2107    11347  2209351            4              3.7       1986   \n",
      "2158    11651  2387463            4              3.8       1992   \n",
      "2190    11812  2209351            4              4.7       2004   \n",
      "2221    11884  2387463            5              4.5       1972   \n",
      "2237    11888  2209351            4              4.4       1993   \n",
      "2275    12232  2209351            5              4.2       2003   \n",
      "2403    12639  2387463            4              4.0       1951   \n",
      "2413    12661  2387463            4              3.8       1987   \n",
      "2435    12778  2209351            5              4.3       1991   \n",
      "2478    13015  2209351            5              4.5       1987   \n",
      "2845    14484  2209351            5              4.0       1988   \n",
      "2893    14983  2209351            4              4.5       1967   \n",
      "3000    15582  2387463            4              3.8       2002   \n",
      "\n",
      "                                      movieName  \n",
      "39                                         Jack  \n",
      "278                           Beverly Hills Cop  \n",
      "448                                        Cujo  \n",
      "816                                         PCU  \n",
      "830               Santa Claus Is Comin' to Town  \n",
      "1113                The Hunchback of Notre Dame  \n",
      "1265       The Crying Game: Collector's Edition  \n",
      "1349                            The Frighteners  \n",
      "1437            Doctor Who: The Ribos Operation  \n",
      "1736                                Deliverance  \n",
      "2107                               Legal Eagles  \n",
      "2158             Ferngully: The Last Rainforest  \n",
      "2190                        Million Dollar Baby  \n",
      "2221  Scooby-Doo Meets the Harlem Globetrotters  \n",
      "2237                        In the Line of Fire  \n",
      "2275                        Lost in Translation  \n",
      "2403                       An American in Paris  \n",
      "2413                                 Hellraiser  \n",
      "2435           Thelma & Louise: Special Edition  \n",
      "2478             The Lost Boys: Special Edition  \n",
      "2845                              The Naked Gun  \n",
      "2893                                    Camelot  \n",
      "3000                         Sweet Home Alabama  \n"
     ]
    }
   ],
   "source": [
    "filtered = Totaldata[Totaldata.userid.isin(highestrated.index)]\n",
    "print(filtered)"
   ]
  },
  {
   "cell_type": "code",
   "execution_count": 199,
   "metadata": {
    "collapsed": false
   },
   "outputs": [
    {
     "name": "stderr",
     "output_type": "stream",
     "text": [
      "C:\\Anaconda3\\lib\\site-packages\\pandas\\core\\generic.py:2387: SettingWithCopyWarning: \n",
      "A value is trying to be set on a copy of a slice from a DataFrame.\n",
      "Try using .loc[row_indexer,col_indexer] = value instead\n",
      "\n",
      "See the caveats in the documentation: http://pandas.pydata.org/pandas-docs/stable/indexing.html#indexing-view-versus-copy\n",
      "  self[name] = value\n"
     ]
    }
   ],
   "source": [
    "filtered.movieName= filtered.movieName.str[:25]"
   ]
  },
  {
   "cell_type": "code",
   "execution_count": 200,
   "metadata": {
    "collapsed": false
   },
   "outputs": [],
   "source": [
    "filteruserid = filtered.sort_values(by =['userid','predictedrating'], ascending=[False,False]).groupby('userid')"
   ]
  },
  {
   "cell_type": "code",
   "execution_count": 202,
   "metadata": {
    "collapsed": false
   },
   "outputs": [
    {
     "data": {
      "text/html": [
       "<div>\n",
       "<table border=\"1\" class=\"dataframe\">\n",
       "  <thead>\n",
       "    <tr style=\"text-align: right;\">\n",
       "      <th></th>\n",
       "      <th>movieid</th>\n",
       "      <th>userid</th>\n",
       "      <th>givenrating</th>\n",
       "      <th>predictedrating</th>\n",
       "      <th>movieyear</th>\n",
       "      <th>movieName</th>\n",
       "    </tr>\n",
       "  </thead>\n",
       "  <tbody>\n",
       "    <tr>\n",
       "      <th>2221</th>\n",
       "      <td>11884</td>\n",
       "      <td>2387463</td>\n",
       "      <td>5</td>\n",
       "      <td>4.5</td>\n",
       "      <td>1972</td>\n",
       "      <td>Scooby-Doo Meets the Harl</td>\n",
       "    </tr>\n",
       "    <tr>\n",
       "      <th>830</th>\n",
       "      <td>4129</td>\n",
       "      <td>2387463</td>\n",
       "      <td>2</td>\n",
       "      <td>4.3</td>\n",
       "      <td>1970</td>\n",
       "      <td>Santa Claus Is Comin' to</td>\n",
       "    </tr>\n",
       "    <tr>\n",
       "      <th>39</th>\n",
       "      <td>305</td>\n",
       "      <td>2387463</td>\n",
       "      <td>4</td>\n",
       "      <td>4.0</td>\n",
       "      <td>1996</td>\n",
       "      <td>Jack</td>\n",
       "    </tr>\n",
       "    <tr>\n",
       "      <th>278</th>\n",
       "      <td>1744</td>\n",
       "      <td>2387463</td>\n",
       "      <td>4</td>\n",
       "      <td>4.0</td>\n",
       "      <td>1984</td>\n",
       "      <td>Beverly Hills Cop</td>\n",
       "    </tr>\n",
       "    <tr>\n",
       "      <th>816</th>\n",
       "      <td>3903</td>\n",
       "      <td>2387463</td>\n",
       "      <td>3</td>\n",
       "      <td>4.0</td>\n",
       "      <td>1994</td>\n",
       "      <td>PCU</td>\n",
       "    </tr>\n",
       "    <tr>\n",
       "      <th>2403</th>\n",
       "      <td>12639</td>\n",
       "      <td>2387463</td>\n",
       "      <td>4</td>\n",
       "      <td>4.0</td>\n",
       "      <td>1951</td>\n",
       "      <td>An American in Paris</td>\n",
       "    </tr>\n",
       "    <tr>\n",
       "      <th>1113</th>\n",
       "      <td>5607</td>\n",
       "      <td>2387463</td>\n",
       "      <td>2</td>\n",
       "      <td>3.8</td>\n",
       "      <td>1996</td>\n",
       "      <td>The Hunchback of Notre Da</td>\n",
       "    </tr>\n",
       "    <tr>\n",
       "      <th>1349</th>\n",
       "      <td>6666</td>\n",
       "      <td>2387463</td>\n",
       "      <td>4</td>\n",
       "      <td>3.8</td>\n",
       "      <td>1996</td>\n",
       "      <td>The Frighteners</td>\n",
       "    </tr>\n",
       "    <tr>\n",
       "      <th>2158</th>\n",
       "      <td>11651</td>\n",
       "      <td>2387463</td>\n",
       "      <td>4</td>\n",
       "      <td>3.8</td>\n",
       "      <td>1992</td>\n",
       "      <td>Ferngully: The Last Rainf</td>\n",
       "    </tr>\n",
       "    <tr>\n",
       "      <th>2413</th>\n",
       "      <td>12661</td>\n",
       "      <td>2387463</td>\n",
       "      <td>4</td>\n",
       "      <td>3.8</td>\n",
       "      <td>1987</td>\n",
       "      <td>Hellraiser</td>\n",
       "    </tr>\n",
       "    <tr>\n",
       "      <th>3000</th>\n",
       "      <td>15582</td>\n",
       "      <td>2387463</td>\n",
       "      <td>4</td>\n",
       "      <td>3.8</td>\n",
       "      <td>2002</td>\n",
       "      <td>Sweet Home Alabama</td>\n",
       "    </tr>\n",
       "    <tr>\n",
       "      <th>2190</th>\n",
       "      <td>11812</td>\n",
       "      <td>2209351</td>\n",
       "      <td>4</td>\n",
       "      <td>4.7</td>\n",
       "      <td>2004</td>\n",
       "      <td>Million Dollar Baby</td>\n",
       "    </tr>\n",
       "    <tr>\n",
       "      <th>2478</th>\n",
       "      <td>13015</td>\n",
       "      <td>2209351</td>\n",
       "      <td>5</td>\n",
       "      <td>4.5</td>\n",
       "      <td>1987</td>\n",
       "      <td>The Lost Boys: Special Ed</td>\n",
       "    </tr>\n",
       "    <tr>\n",
       "      <th>2893</th>\n",
       "      <td>14983</td>\n",
       "      <td>2209351</td>\n",
       "      <td>4</td>\n",
       "      <td>4.5</td>\n",
       "      <td>1967</td>\n",
       "      <td>Camelot</td>\n",
       "    </tr>\n",
       "    <tr>\n",
       "      <th>1736</th>\n",
       "      <td>9481</td>\n",
       "      <td>2209351</td>\n",
       "      <td>4</td>\n",
       "      <td>4.4</td>\n",
       "      <td>1972</td>\n",
       "      <td>Deliverance</td>\n",
       "    </tr>\n",
       "    <tr>\n",
       "      <th>2237</th>\n",
       "      <td>11888</td>\n",
       "      <td>2209351</td>\n",
       "      <td>4</td>\n",
       "      <td>4.4</td>\n",
       "      <td>1993</td>\n",
       "      <td>In the Line of Fire</td>\n",
       "    </tr>\n",
       "    <tr>\n",
       "      <th>2435</th>\n",
       "      <td>12778</td>\n",
       "      <td>2209351</td>\n",
       "      <td>5</td>\n",
       "      <td>4.3</td>\n",
       "      <td>1991</td>\n",
       "      <td>Thelma &amp; Louise: Special</td>\n",
       "    </tr>\n",
       "    <tr>\n",
       "      <th>1265</th>\n",
       "      <td>6336</td>\n",
       "      <td>2209351</td>\n",
       "      <td>4</td>\n",
       "      <td>4.2</td>\n",
       "      <td>1992</td>\n",
       "      <td>The Crying Game: Collecto</td>\n",
       "    </tr>\n",
       "    <tr>\n",
       "      <th>2275</th>\n",
       "      <td>12232</td>\n",
       "      <td>2209351</td>\n",
       "      <td>5</td>\n",
       "      <td>4.2</td>\n",
       "      <td>2003</td>\n",
       "      <td>Lost in Translation</td>\n",
       "    </tr>\n",
       "    <tr>\n",
       "      <th>2845</th>\n",
       "      <td>14484</td>\n",
       "      <td>2209351</td>\n",
       "      <td>5</td>\n",
       "      <td>4.0</td>\n",
       "      <td>1988</td>\n",
       "      <td>The Naked Gun</td>\n",
       "    </tr>\n",
       "    <tr>\n",
       "      <th>448</th>\n",
       "      <td>2460</td>\n",
       "      <td>2209351</td>\n",
       "      <td>4</td>\n",
       "      <td>3.9</td>\n",
       "      <td>1983</td>\n",
       "      <td>Cujo</td>\n",
       "    </tr>\n",
       "    <tr>\n",
       "      <th>1437</th>\n",
       "      <td>7148</td>\n",
       "      <td>2209351</td>\n",
       "      <td>5</td>\n",
       "      <td>3.8</td>\n",
       "      <td>1978</td>\n",
       "      <td>Doctor Who: The Ribos Ope</td>\n",
       "    </tr>\n",
       "    <tr>\n",
       "      <th>2107</th>\n",
       "      <td>11347</td>\n",
       "      <td>2209351</td>\n",
       "      <td>4</td>\n",
       "      <td>3.7</td>\n",
       "      <td>1986</td>\n",
       "      <td>Legal Eagles</td>\n",
       "    </tr>\n",
       "  </tbody>\n",
       "</table>\n",
       "</div>"
      ],
      "text/plain": [
       "      movieid   userid  givenrating  predictedrating  movieyear  \\\n",
       "2221    11884  2387463            5              4.5       1972   \n",
       "830      4129  2387463            2              4.3       1970   \n",
       "39        305  2387463            4              4.0       1996   \n",
       "278      1744  2387463            4              4.0       1984   \n",
       "816      3903  2387463            3              4.0       1994   \n",
       "2403    12639  2387463            4              4.0       1951   \n",
       "1113     5607  2387463            2              3.8       1996   \n",
       "1349     6666  2387463            4              3.8       1996   \n",
       "2158    11651  2387463            4              3.8       1992   \n",
       "2413    12661  2387463            4              3.8       1987   \n",
       "3000    15582  2387463            4              3.8       2002   \n",
       "2190    11812  2209351            4              4.7       2004   \n",
       "2478    13015  2209351            5              4.5       1987   \n",
       "2893    14983  2209351            4              4.5       1967   \n",
       "1736     9481  2209351            4              4.4       1972   \n",
       "2237    11888  2209351            4              4.4       1993   \n",
       "2435    12778  2209351            5              4.3       1991   \n",
       "1265     6336  2209351            4              4.2       1992   \n",
       "2275    12232  2209351            5              4.2       2003   \n",
       "2845    14484  2209351            5              4.0       1988   \n",
       "448      2460  2209351            4              3.9       1983   \n",
       "1437     7148  2209351            5              3.8       1978   \n",
       "2107    11347  2209351            4              3.7       1986   \n",
       "\n",
       "                      movieName  \n",
       "2221  Scooby-Doo Meets the Harl  \n",
       "830   Santa Claus Is Comin' to   \n",
       "39                         Jack  \n",
       "278           Beverly Hills Cop  \n",
       "816                         PCU  \n",
       "2403       An American in Paris  \n",
       "1113  The Hunchback of Notre Da  \n",
       "1349            The Frighteners  \n",
       "2158  Ferngully: The Last Rainf  \n",
       "2413                 Hellraiser  \n",
       "3000         Sweet Home Alabama  \n",
       "2190        Million Dollar Baby  \n",
       "2478  The Lost Boys: Special Ed  \n",
       "2893                    Camelot  \n",
       "1736                Deliverance  \n",
       "2237        In the Line of Fire  \n",
       "2435  Thelma & Louise: Special   \n",
       "1265  The Crying Game: Collecto  \n",
       "2275        Lost in Translation  \n",
       "2845              The Naked Gun  \n",
       "448                        Cujo  \n",
       "1437  Doctor Who: The Ribos Ope  \n",
       "2107               Legal Eagles  "
      ]
     },
     "execution_count": 202,
     "metadata": {},
     "output_type": "execute_result"
    }
   ],
   "source": [
    "filteruserid.head(100)"
   ]
  },
  {
   "cell_type": "code",
   "execution_count": 197,
   "metadata": {
    "collapsed": false
   },
   "outputs": [],
   "source": [
    "#import matplotlib.pyplot as plt\n",
    "#filteruserid.['predictedrating']"
   ]
  },
  {
   "cell_type": "code",
   "execution_count": 203,
   "metadata": {
    "collapsed": false
   },
   "outputs": [
    {
     "ename": "NameError",
     "evalue": "name 'boxplot_frame_groupby' is not defined",
     "output_type": "error",
     "traceback": [
      "\u001b[1;31m---------------------------------------------------------------------------\u001b[0m",
      "\u001b[1;31mNameError\u001b[0m                                 Traceback (most recent call last)",
      "\u001b[1;32m<ipython-input-203-ba94c91e2bc6>\u001b[0m in \u001b[0;36m<module>\u001b[1;34m()\u001b[0m\n\u001b[1;32m----> 1\u001b[1;33m \u001b[0mboxplot_frame_groupby\u001b[0m\u001b[1;33m(\u001b[0m\u001b[0mfilteruserid\u001b[0m\u001b[1;33m)\u001b[0m\u001b[1;33m\u001b[0m\u001b[0m\n\u001b[0m",
      "\u001b[1;31mNameError\u001b[0m: name 'boxplot_frame_groupby' is not defined"
     ]
    }
   ],
   "source": [
    "boxplot_frame_groupby(filteruserid)import pandas as pd\n",
    "predictedData = pd.read_csv('predictions.txt',sep=',', header = None,names =[\"movieid\",\"userid\",\"givenrating\",\"predictedrating\"])\n",
    "#print(predictedData.head())\n",
    "movieData = pd.read_csv('movie_title.txt',sep='\\t', header = None,names =[\"movieid\",\"movieyear\",\"movieName\"])\n",
    "movieData.head()\n",
    "Totaldata = predictedData.merge(movieData)\n",
    "Totaldata.head()\n",
    "Totaldata =Totaldata.ix[Totaldata.predictedrating > 3.5]\n",
    "Totaldata.head()\n",
    "usercounts = Totaldata.groupby('userid').size().sort_values()\n",
    "highestrated = usercounts[-2:]\n",
    "# usercounts = Totaldata.groupby('userid')\n",
    "#print(usercounts)\n",
    "filtered = Totaldata[Totaldata.userid.isin(highestrated.index)]\n",
    "#print(filtered)\n",
    "filtered.movieName= filtered.movieName.str[:25]\n",
    "filteruserid = filtered.sort_values(by =['userid','predictedrating'], ascending=[False,False]).groupby('userid')\n",
    "print(filteruserid.head(100))"
   ]
  },
  {
   "cell_type": "code",
   "execution_count": 209,
   "metadata": {
    "collapsed": false
   },
   "outputs": [
    {
     "name": "stderr",
     "output_type": "stream",
     "text": [
      "C:\\Anaconda3\\lib\\site-packages\\pandas\\core\\generic.py:2387: SettingWithCopyWarning: \n",
      "A value is trying to be set on a copy of a slice from a DataFrame.\n",
      "Try using .loc[row_indexer,col_indexer] = value instead\n",
      "\n",
      "See the caveats in the documentation: http://pandas.pydata.org/pandas-docs/stable/indexing.html#indexing-view-versus-copy\n",
      "  self[name] = value\n"
     ]
    },
    {
     "ename": "AttributeError",
     "evalue": "'DataFrameGroupBy' object has no attribute 'to'",
     "output_type": "error",
     "traceback": [
      "\u001b[1;31m---------------------------------------------------------------------------\u001b[0m",
      "\u001b[1;31mAttributeError\u001b[0m                            Traceback (most recent call last)",
      "\u001b[1;32m<ipython-input-209-dbb66a8c8ea8>\u001b[0m in \u001b[0;36m<module>\u001b[1;34m()\u001b[0m\n\u001b[0;32m     16\u001b[0m \u001b[0mfiltered\u001b[0m\u001b[1;33m.\u001b[0m\u001b[0mmovieName\u001b[0m\u001b[1;33m=\u001b[0m \u001b[0mfiltered\u001b[0m\u001b[1;33m.\u001b[0m\u001b[0mmovieName\u001b[0m\u001b[1;33m.\u001b[0m\u001b[0mstr\u001b[0m\u001b[1;33m[\u001b[0m\u001b[1;33m:\u001b[0m\u001b[1;36m25\u001b[0m\u001b[1;33m]\u001b[0m\u001b[1;33m\u001b[0m\u001b[0m\n\u001b[0;32m     17\u001b[0m \u001b[0mfilteruserid\u001b[0m \u001b[1;33m=\u001b[0m \u001b[0mfiltered\u001b[0m\u001b[1;33m.\u001b[0m\u001b[0msort_values\u001b[0m\u001b[1;33m(\u001b[0m\u001b[0mby\u001b[0m \u001b[1;33m=\u001b[0m\u001b[1;33m[\u001b[0m\u001b[1;34m'userid'\u001b[0m\u001b[1;33m,\u001b[0m\u001b[1;34m'predictedrating'\u001b[0m\u001b[1;33m]\u001b[0m\u001b[1;33m,\u001b[0m \u001b[0mascending\u001b[0m\u001b[1;33m=\u001b[0m\u001b[1;33m[\u001b[0m\u001b[1;32mFalse\u001b[0m\u001b[1;33m,\u001b[0m\u001b[1;32mFalse\u001b[0m\u001b[1;33m]\u001b[0m\u001b[1;33m)\u001b[0m\u001b[1;33m.\u001b[0m\u001b[0mgroupby\u001b[0m\u001b[1;33m(\u001b[0m\u001b[1;34m'userid'\u001b[0m\u001b[1;33m)\u001b[0m\u001b[1;33m\u001b[0m\u001b[0m\n\u001b[1;32m---> 18\u001b[1;33m \u001b[0mfilteruserid\u001b[0m\u001b[1;33m.\u001b[0m\u001b[0mto\u001b[0m\u001b[1;33m(\u001b[0m\u001b[1;36m100\u001b[0m\u001b[1;33m)\u001b[0m\u001b[1;33m\u001b[0m\u001b[0m\n\u001b[0m",
      "\u001b[1;32mC:\\Anaconda3\\lib\\site-packages\\pandas\\core\\groupby.py\u001b[0m in \u001b[0;36m__getattr__\u001b[1;34m(self, attr)\u001b[0m\n\u001b[0;32m    557\u001b[0m \u001b[1;33m\u001b[0m\u001b[0m\n\u001b[0;32m    558\u001b[0m         raise AttributeError(\"%r object has no attribute %r\" %\n\u001b[1;32m--> 559\u001b[1;33m                              (type(self).__name__, attr))\n\u001b[0m\u001b[0;32m    560\u001b[0m \u001b[1;33m\u001b[0m\u001b[0m\n\u001b[0;32m    561\u001b[0m     \u001b[1;32mdef\u001b[0m \u001b[0m__getitem__\u001b[0m\u001b[1;33m(\u001b[0m\u001b[0mself\u001b[0m\u001b[1;33m,\u001b[0m \u001b[0mkey\u001b[0m\u001b[1;33m)\u001b[0m\u001b[1;33m:\u001b[0m\u001b[1;33m\u001b[0m\u001b[0m\n",
      "\u001b[1;31mAttributeError\u001b[0m: 'DataFrameGroupBy' object has no attribute 'to'"
     ]
    }
   ],
   "source": [
    "import pandas as pd\n",
    "predictedData = pd.read_csv('predictions.txt',sep=',', header = None,names =[\"movieid\",\"userid\",\"givenrating\",\"predictedrating\"])\n",
    "#print(predictedData.head())\n",
    "movieData = pd.read_csv('movie_title.txt',sep='\\t', header = None,names =[\"movieid\",\"movieyear\",\"movieName\"])\n",
    "movieData.head()\n",
    "Totaldata = predictedData.merge(movieData)\n",
    "Totaldata.head()\n",
    "Totaldata =Totaldata.ix[Totaldata.predictedrating > 3.5]\n",
    "Totaldata.head()\n",
    "usercounts = Totaldata.groupby('userid').size().sort_values()\n",
    "highestrated = usercounts[-2:]\n",
    "# usercounts = Totaldata.groupby('userid')\n",
    "#print(usercounts)\n",
    "filtered = Totaldata[Totaldata.userid.isin(highestrated.index)]\n",
    "#print(filtered)\n",
    "filtered.movieName= filtered.movieName.str[:25]\n",
    "filteruserid = filtered.sort_values(by =['userid','predictedrating'], ascending=[False,False]).groupby('userid')\n",
    "filteruserid.to(100)"
   ]
  },
  {
   "cell_type": "code",
   "execution_count": 207,
   "metadata": {
    "collapsed": false
   },
   "outputs": [
    {
     "ename": "AttributeError",
     "evalue": "Cannot access callable attribute 'pivot' of 'DataFrameGroupBy' objects, try using the 'apply' method",
     "output_type": "error",
     "traceback": [
      "\u001b[1;31m---------------------------------------------------------------------------\u001b[0m",
      "\u001b[1;31mAttributeError\u001b[0m                            Traceback (most recent call last)",
      "\u001b[1;32m<ipython-input-207-0a69a23a30fa>\u001b[0m in \u001b[0;36m<module>\u001b[1;34m()\u001b[0m\n\u001b[1;32m----> 1\u001b[1;33m filteruserid.pivot(index ='userid', columns ='movieName',\n\u001b[0m\u001b[0;32m      2\u001b[0m                               values = 'rating')\n",
      "\u001b[1;32mC:\\Anaconda3\\lib\\site-packages\\pandas\\core\\groupby.py\u001b[0m in \u001b[0;36m__getattr__\u001b[1;34m(self, attr)\u001b[0m\n\u001b[0;32m    554\u001b[0m             \u001b[1;32mreturn\u001b[0m \u001b[0mself\u001b[0m\u001b[1;33m[\u001b[0m\u001b[0mattr\u001b[0m\u001b[1;33m]\u001b[0m\u001b[1;33m\u001b[0m\u001b[0m\n\u001b[0;32m    555\u001b[0m         \u001b[1;32mif\u001b[0m \u001b[0mhasattr\u001b[0m\u001b[1;33m(\u001b[0m\u001b[0mself\u001b[0m\u001b[1;33m.\u001b[0m\u001b[0mobj\u001b[0m\u001b[1;33m,\u001b[0m \u001b[0mattr\u001b[0m\u001b[1;33m)\u001b[0m\u001b[1;33m:\u001b[0m\u001b[1;33m\u001b[0m\u001b[0m\n\u001b[1;32m--> 556\u001b[1;33m             \u001b[1;32mreturn\u001b[0m \u001b[0mself\u001b[0m\u001b[1;33m.\u001b[0m\u001b[0m_make_wrapper\u001b[0m\u001b[1;33m(\u001b[0m\u001b[0mattr\u001b[0m\u001b[1;33m)\u001b[0m\u001b[1;33m\u001b[0m\u001b[0m\n\u001b[0m\u001b[0;32m    557\u001b[0m \u001b[1;33m\u001b[0m\u001b[0m\n\u001b[0;32m    558\u001b[0m         raise AttributeError(\"%r object has no attribute %r\" %\n",
      "\u001b[1;32mC:\\Anaconda3\\lib\\site-packages\\pandas\\core\\groupby.py\u001b[0m in \u001b[0;36m_make_wrapper\u001b[1;34m(self, name)\u001b[0m\n\u001b[0;32m    571\u001b[0m                    \"using the 'apply' method\".format(kind, name,\n\u001b[0;32m    572\u001b[0m                                                      type(self).__name__))\n\u001b[1;32m--> 573\u001b[1;33m             \u001b[1;32mraise\u001b[0m \u001b[0mAttributeError\u001b[0m\u001b[1;33m(\u001b[0m\u001b[0mmsg\u001b[0m\u001b[1;33m)\u001b[0m\u001b[1;33m\u001b[0m\u001b[0m\n\u001b[0m\u001b[0;32m    574\u001b[0m \u001b[1;33m\u001b[0m\u001b[0m\n\u001b[0;32m    575\u001b[0m         \u001b[1;31m# need to setup the selection\u001b[0m\u001b[1;33m\u001b[0m\u001b[1;33m\u001b[0m\u001b[0m\n",
      "\u001b[1;31mAttributeError\u001b[0m: Cannot access callable attribute 'pivot' of 'DataFrameGroupBy' objects, try using the 'apply' method"
     ]
    }
   ],
   "source": [
    "filteruserid.pivot(index ='userid', columns ='movieName',\n",
    "                              values = 'rating')"
   ]
  },
  {
   "cell_type": "code",
   "execution_count": null,
   "metadata": {
    "collapsed": true
   },
   "outputs": [],
   "source": []
  },
  {
   "cell_type": "code",
   "execution_count": null,
   "metadata": {
    "collapsed": true
   },
   "outputs": [],
   "source": []
  }
 ],
 "metadata": {
  "kernelspec": {
   "display_name": "Python 3",
   "language": "python",
   "name": "python3"
  },
  "language_info": {
   "codemirror_mode": {
    "name": "ipython",
    "version": 3
   },
   "file_extension": ".py",
   "mimetype": "text/x-python",
   "name": "python",
   "nbconvert_exporter": "python",
   "pygments_lexer": "ipython3",
   "version": "3.5.3"
  }
 },
 "nbformat": 4,
 "nbformat_minor": 0
}
